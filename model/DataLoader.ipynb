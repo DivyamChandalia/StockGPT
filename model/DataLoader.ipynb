{
 "cells": [
  {
   "cell_type": "code",
   "execution_count": 1,
   "metadata": {},
   "outputs": [],
   "source": [
    "from utils import Data, save_data\n",
    "import torch\n",
    "\n",
    "file_path = \"/home/summer_20/Divyam/StockGPT/model/\"\n",
    "# Define the list of ticker symbols you want to retrieve data for\n",
    "crypto = [\"BTC-USD\", \"ETH-USD\", \"BNB-USD\", \"XRP-USD\", \"DOGE-USD\",\n",
    "        \"ADA-USD\", \"SOL-USD\", \"TRX-USD\", \"LTC-USD\", \"MATIC-USD\",\n",
    "        \"DOT-USD\", \"SHIB-USD\", \"BCH-USD\", \"AVAX-USD\",\n",
    "        \"XLM-USD\", \"TON11419-USD\", \"LINK-USD\", \"UNI7083-USD\",\n",
    "        'LEO-USD', 'ATOM-USD', 'XMR-USD', 'ETC-USD', 'OKB-USD',\n",
    "        'FIL-USD', 'ICP-USD', 'WHBAR-USD', 'HBAR-USD',\n",
    "        'LDO-USD', 'APT21794-USD',\n",
    "        'ARB11841-USD', 'CRO-USD', 'VET-USD', 'QNT-USD',\n",
    "        'NEAR-USD', 'MKR-USD', 'OP-USD', 'HEX-USD',\n",
    "        'GRT6719-USD', 'AAVE-USD', 'ALGO-USD', \"AXS-USD\",\n",
    "        \"XDC-USD\", \"EGLD-USD\", \"STX4847-USD\", \"SAND-USD\",\n",
    "        \"EOS-USD\", \"IMX10603-USD\", \"FRAX-USD\", \"THETA-USD\",\n",
    "        \"XTZ-USD\", \"BSV-USD\", \"KAS-USD\", \"MANA-USD\",\n",
    "        \"APE18876-USD\", \"SNX-USD\", \"FTM-USD\", \"INJ-USD\",\n",
    "        \"RNDR-USD\", \"TNC5524-USD\", \"NEO-USD\",\n",
    "        \"XEC-USD\", \"FLOW-USD\", \"KAVA-USD\", \"RPL-USD\",\n",
    "        \"XRD-USD\", \"KCS-USD\", \"CFX-USD\", \"CHZ-USD\", \"CRV-USD\",\n",
    "        \"COMP5692-USD\", \"GALA-USD\", \"KLAY-USD\", \"PEPE24478-USD\",\n",
    "        \"GMX11857-USD\", \"ZEC-USD\", \"LUNC-USD\",\n",
    "        \"FTT-USD\", \"HT-USD\", \"FXS-USD\"]\n",
    "\n",
    "indexes = [\"^GSPC\", \"^DJI\", \"^IXIC\", \"^NYA\", \"^XAX\", \"^RUT\", \"^FTSE\",\"^GDAXI\", \"^FCHI\",\n",
    "        \"^STOXX50E\", \"^N100\", \"^BFX\", \"^N225\",\"^HSI\", \"000001.SS\", \"399001.SZ\", \"^STI\", \"^AXJO\",\n",
    "        \"^AORD\", \"^BSESN\", \"^JKSE\", \"^KLSE\", \"^NZ50\", \"^KS11\", \"^TWII\", \"^GSPTSE\", \"^BVSP\", \"^MXX\",] #confirmed indexes\n",
    "\n",
    "indian_stocks = [\"TATACONSUM.NS\", \"ULTRACEMCO.NS\", \"CIPLA.NS\", \"NESTLEIND.NS\", \"TITAN.NS\", \"BHARTIARTL.NS\", \"ITC.NS\",\n",
    "        \"BAJAJ-AUTO.NS\", \"RELIANCE.NS\", \"BAJAJFINSV.NS\", \"COALINDIA.NS\", \"LTIM.NS\", \"HEROMOTOCO.NS\",\n",
    "        \"KOTAKBANK.NS\", \"BAJFINANCE.NS\", \"INDUSINDBK.NS\", \"ADANIENT.NS\", \"TATASTEEL.NS\", \"APOLLOHOSP.NS\",\n",
    "        \"LT.NS\", \"MARUTI.NS\", \"WIPRO.NS\", \"TCS.NS\", \"BRITANNIA.NS\", \"HINDALCO.NS\", \"HDFCLIFE.NS\", \"ONGC.NS\", \"NTPC.NS\"]\n",
    "\n",
    "international_stocks = [\"SOFI\", \"PLTR\", \"NIO\", \"TSLA\", \"XPEV\", \"F\", \"AMD\", \"LCID\", \"AMC\", \"ROKU\", \"INTC\", \"RIVN\", \"SNAP\",\n",
    "                        \"PBR\", \"AAPL\", \"T\", \"GDRX\", \"NVDA\", \"CCL\", \"AFRM\", \"APLS\", \"PFE\", \"QS\", \"FSR\",\n",
    "                        \"ETRN\", \"META\", \"BAC\", \"GOOGL\", \"DIS\", \"MSFT\", \"JNJ\", \"AI\", \"BABA\", \"SIRI\", \"NU\", \"IONQ\",\n",
    "                        \"DIDIY\", \"XOM\", \"DNA\", \"AAL\", \"NOK\", \"VALE\", \"GOOG\", \"ABEV\", \"CVNA\", \"VZ\", \"KVUE\",\n",
    "                        \"AUR\", \"PYPL\", \"UPST\", \"DKNG\", \"NCLH\", \"PBR-A\", \"NEWR\", \"JD\", \"KDP\", \"BB\", \"IQ\", \"PCG\", \"LU\", \"GRAB\",\n",
    "                        \"KEY\", \"WBD\", \"JOBY\", \"TAL\", \"CHPT\", \"ITUB\", \"CMCSA\", \"LYG\", \"ARCC\", \"CSX\", \"LYFT\", \"HOOD\", \"PDD\",\n",
    "                        \"PARA\", \"SHOP\", \"U\", \"JBLU\", \"BILI\", \"FTCH\", \"C\", \"ET\", \"COIN\", \"TME\", \"TSM\"]\n",
    "\n",
    "ticker_symbols = international_stocks + crypto + indexes + indian_stocks\n",
    "# ticker_symbols = [\"BTC-USD\",\"ETH-USD\", \"XRP-USD\",\"BNB-USD\",\"ADA-USD\",\n",
    "#                   \"SOL-USD\",\"DOGE-USD\",\"TRX-USD\",\"MATIC-USD\",\"LTC-USD\"]  # Example: Bitcoin, Ethereum, Litecoin against USD\n",
    "# ticker_symbols = indian_stocks\n",
    "\n",
    "num_features = int(5)\n",
    "num_tickers = len(ticker_symbols)\n",
    "train_split, val_split, test_split = 0.6, 0.2, 0.2 #must add upto 1\n",
    "\n",
    "input_seq_length = 600  # Adjust this based on your requirements\n",
    "output_seq_length = 200  # Adjust this based on your requirements\n",
    "stride = 200 #stride for the pairs\n"
   ]
  },
  {
   "cell_type": "code",
   "execution_count": 4,
   "metadata": {},
   "outputs": [],
   "source": [
    "data = Data(tickers = ticker_symbols, split = [0.6,0.2,0.2], len_input = input_seq_length, len_output = output_seq_length, stride = stride)\n",
    "# data.completed_tickers.append(\"LDO-USD\")\n"
   ]
  },
  {
   "cell_type": "code",
   "execution_count": 8,
   "metadata": {},
   "outputs": [
    {
     "name": "stderr",
     "output_type": "stream",
     "text": [
      "Loading Data for NTPC.NS: 100%|██████████| 220/220 [08:32<00:00,  2.33s/it]      \n",
      "Loading Test Data: 100%|██████████| 47/47 [00:00<00:00, 58.55it/s]\n"
     ]
    }
   ],
   "source": [
    "data.load_normie()"
   ]
  },
  {
   "cell_type": "code",
   "execution_count": 9,
   "metadata": {},
   "outputs": [],
   "source": [
    "save_data(data,file_path)"
   ]
  }
 ],
 "metadata": {
  "kernelspec": {
   "display_name": "Python 3",
   "language": "python",
   "name": "python3"
  },
  "language_info": {
   "codemirror_mode": {
    "name": "ipython",
    "version": 3
   },
   "file_extension": ".py",
   "mimetype": "text/x-python",
   "name": "python",
   "nbconvert_exporter": "python",
   "pygments_lexer": "ipython3",
   "version": "3.8.10 (default, May 26 2023, 14:05:08) \n[GCC 9.4.0]"
  },
  "orig_nbformat": 4,
  "vscode": {
   "interpreter": {
    "hash": "916dbcbb3f70747c44a77c7bcd40155683ae19c65e1c03b4aa3499c5328201f1"
   }
  }
 },
 "nbformat": 4,
 "nbformat_minor": 2
}
